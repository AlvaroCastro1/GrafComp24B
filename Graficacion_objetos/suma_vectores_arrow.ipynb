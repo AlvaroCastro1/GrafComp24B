{
 "cells": [
  {
   "cell_type": "markdown",
   "metadata": {},
   "source": [
    "Suma de vectores de la actividad realizada en clase\n",
    "Alvaro Jesus Castro Pizaña\n",
    "Graficacion Computacional"
   ]
  },
  {
   "cell_type": "code",
   "execution_count": 4,
   "metadata": {},
   "outputs": [],
   "source": [
    "import numpy as np\n",
    "import matplotlib.pyplot as plt"
   ]
  },
  {
   "cell_type": "code",
   "execution_count": 1,
   "metadata": {},
   "outputs": [
    {
     "ename": "NameError",
     "evalue": "name 'plt' is not defined",
     "output_type": "error",
     "traceback": [
      "\u001b[1;31m---------------------------------------------------------------------------\u001b[0m",
      "\u001b[1;31mNameError\u001b[0m                                 Traceback (most recent call last)",
      "Cell \u001b[1;32mIn[1], line 9\u001b[0m\n\u001b[0;32m      6\u001b[0m y2\u001b[38;5;241m=\u001b[39m\u001b[38;5;241m5\u001b[39m\n\u001b[0;32m      8\u001b[0m \u001b[38;5;66;03m#Definir ejes\u001b[39;00m\n\u001b[1;32m----> 9\u001b[0m \u001b[43mplt\u001b[49m\u001b[38;5;241m.\u001b[39maxis([x1,x2,y1,y2])\n\u001b[0;32m     11\u001b[0m plt\u001b[38;5;241m.\u001b[39mtitle(\u001b[38;5;124m\"\u001b[39m\u001b[38;5;124mSuma de 3 vectores\u001b[39m\u001b[38;5;124m\"\u001b[39m)\n\u001b[0;32m     13\u001b[0m dx \u001b[38;5;241m=\u001b[39m dy \u001b[38;5;241m=\u001b[39m \u001b[38;5;241m2\u001b[39m\n",
      "\u001b[1;31mNameError\u001b[0m: name 'plt' is not defined"
     ]
    }
   ],
   "source": [
    "# definimos los rangos\n",
    "x1=-5\n",
    "x2=5\n",
    "\n",
    "y1=-6\n",
    "y2=5\n",
    "\n",
    "#Definir ejes\n",
    "plt.axis([x1,x2,y1,y2])\n",
    "\n",
    "plt.title(\"Suma de 3 vectores\")\n",
    "\n",
    "dx = dy = 2\n",
    "\n",
    "#colocamos los vectores y labels\n",
    "plt.arrow(0,0,2,4, head_length=0.3, head_width=0.2, color=\"k\")\n",
    "plt.arrow(2,4,-6,-2, head_length=0.3, head_width=0.2, color=\"k\")\n",
    "plt.arrow(-4,2,2,-7, head_length=0.3, head_width=0.2, color=\"k\")\n",
    "\n",
    "plt.arrow(0,0,-2,-5, head_length=0.3, head_width=0.2, color=\"red\")\n",
    "plt.show()"
   ]
  },
  {
   "cell_type": "code",
   "execution_count": null,
   "metadata": {},
   "outputs": [],
   "source": []
  },
  {
   "cell_type": "code",
   "execution_count": null,
   "metadata": {},
   "outputs": [],
   "source": []
  }
 ],
 "metadata": {
  "colab": {
   "provenance": []
  },
  "kernelspec": {
   "display_name": "Python 3 (ipykernel)",
   "language": "python",
   "name": "python3"
  },
  "language_info": {
   "codemirror_mode": {
    "name": "ipython",
    "version": 3
   },
   "file_extension": ".py",
   "mimetype": "text/x-python",
   "name": "python",
   "nbconvert_exporter": "python",
   "pygments_lexer": "ipython3",
   "version": "3.11.9"
  }
 },
 "nbformat": 4,
 "nbformat_minor": 4
}
