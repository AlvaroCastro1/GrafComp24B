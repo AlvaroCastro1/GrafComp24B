{
 "cells": [
  {
   "cell_type": "markdown",
   "metadata": {},
   "source": [
    "# Universidad Autonoma del Estado de México\n",
    "*Centro universitario UAEM Zumpango*\n",
    "## Ingenieria en computacion\n",
    "## Graficación Computacional\n",
    "\n",
    "**Alumno:** Alvaro Jesus Castro Pizaña\n",
    "**Profesora:** Hazem Alvarez Rodriguez\n",
    "\n",
    "Fecha: 22 de Oct. del 2024\n",
    "Descripcion: Prototipo de Animación"
   ]
  },
  {
   "cell_type": "markdown",
   "metadata": {},
   "source": [
    "Vamos a crear a Gelipe con figuras geometricas basicas"
   ]
  },
  {
   "cell_type": "markdown",
   "metadata": {},
   "source": [
    "Biblioteca Mannim"
   ]
  },
  {
   "cell_type": "code",
   "execution_count": null,
   "metadata": {},
   "outputs": [],
   "source": [
    "from manim import *"
   ]
  },
  {
   "cell_type": "markdown",
   "metadata": {},
   "source": [
    "Codigo principal para la creacion"
   ]
  },
  {
   "cell_type": "code",
   "execution_count": null,
   "metadata": {},
   "outputs": [],
   "source": [
    "\n",
    "class MiGelipe(Scene):\n",
    "    def construct(self):\n",
    "        # color principal de Gelipe\n",
    "        color_gelipe = BLUE\n",
    "        \n",
    "        # Título de la escena\n",
    "        nombre = Text(\"Gelipe\", font_size=55)  # Crear un texto con el nombre \"Gelipe\"\n",
    "        nombre.move_to(ORIGIN + UP * 2)  # Posicionar el texto en la parte superior de la escena\n",
    "        self.play(Write(nombre))  # Animar la escritura del texto en la pantalla\n",
    "        self.wait(1)\n",
    "\n",
    "        # Crear el cuerpo principal de Gelipe como una elipse\n",
    "        cuerpo = Ellipse(width=5, height=2, color=color_gelipe, fill_opacity=1)  # Crear el cuerpo\n",
    "        cuerpo.shift(DOWN * 0.5)  # Bajar el cuerpo un poco en la pantalla\n",
    "        self.play(Create(cuerpo))  # Mostrar la creación del cuerpo\n",
    "        self.wait(1)\n",
    "\n",
    "        # Crear los ojos de Gelipe (lista con vertices)\n",
    "        ojo1 = Polygon([-0.7, -0.1, 0], [-0.2, -0.1, 0], [-0.45, -0.5, 0], color=WHITE, fill_opacity=1)  # Ojo izquierdo\n",
    "        ojo2 = Polygon([0.7, -0.1, 0], [0.2, -0.1, 0], [0.45, -0.5, 0], color=WHITE, fill_opacity=1)  # Ojo derecho\n",
    "        ojo1.shift(LEFT * 0.35 + DOWN * 0.01)  # Ajustar la posición del ojo izquierdo\n",
    "        ojo2.shift(RIGHT * 0.35 + DOWN * 0.01)  # Ajustar la posición del ojo derecho\n",
    "        self.play(Create(ojo1), Create(ojo2))  # Mostrar los ojos\n",
    "        self.wait(1)\n",
    "\n",
    "        # Crear los brazos de Gelipe\n",
    "        brazo1 = RoundedRectangle(width=2, height=0.5, color=color_gelipe, fill_opacity=1)  # Brazo izquierdo\n",
    "        brazo2 = RoundedRectangle(width=2, height=0.5, color=color_gelipe, fill_opacity=1)  # Brazo derecho\n",
    "\n",
    "        brazo1.rotate(PI / 8)  # Rotar el brazo izquierdo ligeramente\n",
    "        brazo2.rotate(-PI / 8)  # Rotar el brazo derecho ligeramente\n",
    "\n",
    "        brazo1.shift(LEFT * 3 + DOWN * 1)  # Mover el brazo izquierdo hacia la izquierda y hacia abajo\n",
    "        brazo2.shift(RIGHT * 3 + DOWN * 1)  # Mover el brazo derecho hacia la derecha y hacia abajo\n",
    "        self.play(Create(brazo1), Create(brazo2))  # Mostrar los brazos\n",
    "        self.wait(1)\n",
    "\n",
    "        # Crear las piernas de Gelipe\n",
    "        pierna1 = Square(side_length=0.7, color=color_gelipe, fill_opacity=1)  # Pierna izquierda\n",
    "        pierna2 = Square(side_length=0.7, color=color_gelipe, fill_opacity=1)  # Pierna derecha\n",
    "\n",
    "        pierna1.shift(LEFT * 0.75 + DOWN * 1.7)  # Ajustar la posición de la pierna izquierda\n",
    "        pierna2.shift(RIGHT * 0.75 + DOWN * 1.7)  # Ajustar la posición de la pierna derecha\n",
    "        self.play(Create(pierna1), Create(pierna2))  # Mostrar las piernas\n",
    "        self.wait(1)\n",
    "\n",
    "        # Crear los pies de Gelipe\n",
    "        pie1 = Polygon([0, 0, 0], [0.5, -0.5, 0], [-0.5, -0.5, 0], color=color_gelipe, fill_opacity=1)  # Pie izquierdo\n",
    "        pie2 = Polygon([0, 0, 0], [0.5, -0.5, 0], [-0.5, -0.5, 0], color=color_gelipe, fill_opacity=1)  # Pie derecho\n",
    "\n",
    "        pie1.shift(LEFT * 0.75 + DOWN * 2.1)  # Ajustar la posición del pie izquierdo\n",
    "        pie2.shift(RIGHT * 0.75 + DOWN * 2.1)  # Ajustar la posición del pie derecho\n",
    "        self.play(Create(pie1), Create(pie2))  # Mostrar los pies\n",
    "        self.wait(1)\n",
    "\n",
    "        # Crear la boca como una flecha curva doble (simulando una sonrisa)\n",
    "        flecha_curva_doble = CurvedDoubleArrow(\n",
    "            start_point=LEFT * 0.8, end_point=RIGHT * 0.8, color=YELLOW, angle=-PI / 2\n",
    "        )\n",
    "        flecha_curva_doble.shift(DOWN * 1.2)  # Colocar la flecha curva doble más abajo (posición de la boca)\n",
    "        flecha_curva_doble.scale(0.7)  # Escalar la flecha para que sea del tamaño adecuado\n",
    "        self.play(Create(flecha_curva_doble))  # Mostrar la \"boca\"\n",
    "        self.wait(1)\n",
    "\n",
    "        # Agrupar pierna1 y pie1 para moverlos juntos\n",
    "        pierna_y_pie1 = VGroup(pierna1, pie1)  # Agrupar pierna y pie izquierdo para animarlos juntos\n",
    "\n",
    "        # Animación para levantar el brazo derecho y mover la pierna y el pie juntos\n",
    "        punto_fijo_brazo2 = brazo2.get_left()  # Mantener el extremo izquierdo del brazo derecho fijo\n",
    "        punto_fijo_pierna1 = pierna1.get_top()  # Mantener la parte superior de la pierna izquierda como punto de rotación\n",
    "        punto_fijo_boca1 = flecha_curva_doble.get_top()  # Mantener la parte superior de la boca como punto de rotación\n",
    "\n",
    "        # Agrupar las animaciones de rotación\n",
    "        animaciones = AnimationGroup(\n",
    "            Rotate(brazo2, angle=PI / 3, about_point=punto_fijo_brazo2),  # Levantar el brazo derecho\n",
    "            Rotate(pierna_y_pie1, angle=-PI / 6, about_point=punto_fijo_pierna1),  # Mover la pierna izquierda\n",
    "            Rotate(flecha_curva_doble, angle=2*PI / 2, about_point=punto_fijo_boca1)  # Hacer que la boca sonría\n",
    "        )\n",
    "\n",
    "        self.play(animaciones)  # Ejecutar todas las animaciones al mismo tiempo\n",
    "        self.wait(0.5)\n",
    "\n",
    "        # Regresar a la posición original\n",
    "        animaciones_invertidas = AnimationGroup(\n",
    "            Rotate(brazo2, angle=-PI / 3, about_point=punto_fijo_brazo2),  # Bajar el brazo derecho\n",
    "            Rotate(pierna_y_pie1, angle=PI / 6, about_point=punto_fijo_pierna1),  # Regresar la pierna izquierda\n",
    "            Rotate(flecha_curva_doble, angle=-2*PI / 2, about_point=punto_fijo_boca1)  # Regresar la boca a su posición original\n",
    "        )\n",
    "\n",
    "        self.play(animaciones_invertidas)  # Ejecutar las animaciones para regresar a la posición original\n",
    "        self.wait(3)  # Esperar al final de la animación\n"
   ]
  }
 ],
 "metadata": {
  "kernelspec": {
   "display_name": "Python 3 (ipykernel)",
   "language": "python",
   "name": "python3"
  },
  "language_info": {
   "codemirror_mode": {
    "name": "ipython",
    "version": 3
   },
   "file_extension": ".py",
   "mimetype": "text/x-python",
   "name": "python",
   "nbconvert_exporter": "python",
   "pygments_lexer": "ipython3",
   "version": "3.11.9"
  }
 },
 "nbformat": 4,
 "nbformat_minor": 4
}
