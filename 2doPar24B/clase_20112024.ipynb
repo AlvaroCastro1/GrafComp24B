{
 "cells": [
  {
   "cell_type": "markdown",
   "id": "bbf6c922-2e3d-431c-bd45-cacb122d90a3",
   "metadata": {},
   "source": [
    "# Universidad Autonoma del Estado de México\n",
    "## Centro universitario UAEM Zumpango\n",
    "\n",
    "# Ingenieria en computacion\n",
    "## Graficacion computacional\n",
    "**Alumno:** Alvaro Jesus Castro Pizaña\n",
    "\n",
    "Fecha: 30 de septiembre del 2024\n",
    "\n",
    "hacer transformaciones"
   ]
  },
  {
   "cell_type": "code",
   "execution_count": null,
   "id": "87253d1c",
   "metadata": {},
   "outputs": [
    {
     "ename": "",
     "evalue": "",
     "output_type": "error",
     "traceback": [
      "\u001b[1;31mLa ejecución de celdas con '.venv (Python 3.11.9)' requiere el paquete ipykernel.\n",
      "\u001b[1;31mEjecute el siguiente comando para instalar 'ipykernel' en el entorno de Python. comando \n",
      "\u001b[1;31m: 'c:/Users/Hp245-User/OneDrive/UAEMex/7mo_semestre/GrafComp24B/2doPar24B/.venv/Scripts/python.exe -m pip install ipykernel -U --force-reinstall'"
     ]
    }
   ],
   "source": [
    "import numpy as np\n",
    "import matplotlib.pyplot as plt\n",
    "\n",
    "# Puntos iniciales\n",
    "E = np.array([(0, 0, 1), (3, 0, 1), (3, 1, 1), (1, 1, 1), \n",
    "              (1, 2, 1), (2, 2, 1), (2, 3, 1), (1, 3, 1), \n",
    "              (1, 4, 1), (3, 4, 1), (3, 5, 1), (0, 5, 1), (0,0,1)])\n",
    "\n",
    "# Matriz Identidad\n",
    "Ic = np.eye(3)\n",
    "\n",
    "# Matriz de Reflexión con respecto al eje x\n",
    "Refx = np.array([[1., 0, 0],\n",
    "                 [0, -1., 0],\n",
    "                 [0., 0., 1.]])\n",
    "\n",
    "# Matriz de Reflexión con respecto al eje y\n",
    "Refy = np.array([[-1., 0, 0],\n",
    "                 [0, 1., 0],\n",
    "                 [0., 0., 1.]])\n",
    "\n",
    "# Matriz de Rotación\n",
    "theta = np.pi / 3  # Ángulo de rotación deseado\n",
    "R = np.array([[np.cos(theta), np.sin(theta), 0.],\n",
    "              [-np.sin(theta), np.cos(theta), 0.],\n",
    "              [0., 0., 1.]])\n",
    "\n",
    "# Matriz de cambio de escala\n",
    "s = 2  # Escalar\n",
    "S = np.array([[s, 0, 0.], \n",
    "              [0., s, 0.], \n",
    "              [0., 0., 1.]])\n",
    "\n",
    "# Matriz de deformación horizontal/vertical\n",
    "h, v = -1, 2\n",
    "D = np.array([[1., h, 0.], \n",
    "              [v, 1., 0.], \n",
    "              [0., 0., 1.]])\n",
    "\n",
    "# Matriz de traslación\n",
    "tx, ty = -3, -5\n",
    "T = np.array([[1., 0, tx], \n",
    "              [0, 1., ty], \n",
    "              [0., 0., 1.]])\n",
    "\n",
    "# Transformación y graficación\n",
    "ax = plt.gca()  # Obtener ejes actuales\n",
    "Ex = []  # Lista de primeras componentes\n",
    "Ey = []  # Lista de segundas componentes\n",
    "\n",
    "# Aplicar transformación a cada punto\n",
    "for row in E:\n",
    "    output_row = R.dot(row)  # Multiplicación de la matriz por el punto respectivo\n",
    "    x, y, _ = output_row  # Coordenadas ya transformadas\n",
    "    Ex.append(x)  # Guardar coordenadas transformadas\n",
    "    Ey.append(y)\n",
    "\n",
    "# Graficar figura original y transformada\n",
    "plt.plot(E[:, 0], E[:, 1], color=\"blue\", label=\"Original\")  # Original\n",
    "plt.plot(Ex, Ey, color=\"red\", label=\"Transformada\")  # Transformada\n",
    "\n",
    "# Configuración de los ejes\n",
    "ax.set_xticks(np.arange(-6, 8, 2))  # Fija el rango del eje x\n",
    "ax.set_yticks(np.arange(-6, 8, 2))  # Fija el rango del eje y\n",
    "plt.gca().set_aspect('equal', adjustable='box')  # Establece la misma escala\n",
    "plt.grid()  # Habilita la cuadrícula\n",
    "plt.legend()  # Agregar leyenda\n",
    "plt.show()  # Mostrar la gráfica"
   ]
  },
  {
   "cell_type": "code",
   "execution_count": null,
   "id": "cd6f10ee",
   "metadata": {},
   "outputs": [],
   "source": []
  }
 ],
 "metadata": {
  "kernelspec": {
   "display_name": ".venv",
   "language": "python",
   "name": "python3"
  },
  "language_info": {
   "codemirror_mode": {
    "name": "ipython",
    "version": 3
   },
   "file_extension": ".py",
   "mimetype": "text/x-python",
   "name": "python",
   "nbconvert_exporter": "python",
   "pygments_lexer": "ipython3",
   "version": "3.11.9"
  }
 },
 "nbformat": 4,
 "nbformat_minor": 5
}
